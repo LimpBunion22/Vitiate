{
 "cells": [
  {
   "cell_type": "code",
   "execution_count": 2,
   "metadata": {},
   "outputs": [],
   "source": [
    "import netStandalone\n",
    "import os\n",
    "import numpy as np\n",
    "from schmidt import BaseElement\n",
    "from utils import plotter as plt\n",
    "import time"
   ]
  },
  {
   "cell_type": "code",
   "execution_count": 3,
   "metadata": {},
   "outputs": [],
   "source": [
    "# Path de workspace\n",
    "PATH = os.path.join(os.environ['USERPROFILE'], \"Desktop/CE\")\n",
    "\n",
    "# Paso de integración para los productos escalares\n",
    "step = 0.1\n",
    "# Dominio de las funciones [-domaine,domaine]\n",
    "domaine = 128\n",
    "# Orden, para distribuir los bias se va dividiendo el dominio de dos en dos -> 2^order neuronas base\n",
    "order = 5"
   ]
  },
  {
   "cell_type": "code",
   "execution_count": 4,
   "metadata": {},
   "outputs": [],
   "source": [
    "# Genera las funciones\n",
    "X = np.arange(-domaine,domaine,step)\n",
    "\n",
    "yfunc = np.zeros(int(2*domaine/step))\n",
    "yfunc = np.sin(np.arange(-domaine,domaine,step)/10)+1\n",
    "myElement = BaseElement.myfunc(yfunc)"
   ]
  },
  {
   "cell_type": "code",
   "execution_count": 7,
   "metadata": {},
   "outputs": [],
   "source": [
    "# Guarda las funciones en archivo\n",
    "with open(PATH+\"/_temporal_data.csv\", \"w\") as file:\n",
    "    file.write(\"//number of elements\\n\"+str(len(yfunc))+\",\\n\\n\")\n",
    "    file.write(\"//output isze, input size\\n\"+str(1)+\",\"+str(1)+\",\\n\\n\")\n",
    "    file.write(\"//inputs\\n\")\n",
    "    for x in X:\n",
    "        file.write(str(x)+\",\")\n",
    "    file.write(\"\\n//outputs\\n\")\n",
    "    for y in yfunc:\n",
    "        file.write(str(y)+\",\")\n",
    "    file.write(\"\\n//labels\\n\")\n",
    "    for y in yfunc:\n",
    "        file.write(str(0)+\",\")"
   ]
  },
  {
   "cell_type": "code",
   "execution_count": 8,
   "metadata": {},
   "outputs": [],
   "source": [
    "# Crea la base de proyeccion\n",
    "myBase = BaseElement.base(step, domaine, order)"
   ]
  },
  {
   "cell_type": "code",
   "execution_count": 9,
   "metadata": {},
   "outputs": [],
   "source": [
    "# Escribe una red con las funciones proyectadas\n",
    "entradas = 1\n",
    "npl = [myBase.max_index,1]\n",
    "act = [netStandalone.RELU2, netStandalone.RELU2]\n",
    "myBase.write_params(PATH+\"/pyparams.csv\",entradas,npl,[myElement])"
   ]
  },
  {
   "cell_type": "markdown",
   "metadata": {},
   "source": [
    "### VITIATE"
   ]
  },
  {
   "cell_type": "code",
   "execution_count": 15,
   "metadata": {},
   "outputs": [
    {
     "data": {
      "text/plain": [
       "<netStandalone.handler at 0x27a5bf55a70>"
      ]
     },
     "execution_count": 15,
     "metadata": {},
     "output_type": "execute_result"
    }
   ],
   "source": [
    "# Inicializa el manejador de redes\n",
    "handler = netStandalone.handler(PATH)\n",
    "ITERATIONS = 10000\n",
    "handler.attr(netStandalone.ALPHA, 2.0)\n",
    "handler.attr(netStandalone.ALPHA_DECAY, 0.001)\n",
    "handler.attr(netStandalone.ERROR_THRESHOLD, 0.1)\n",
    "handler.attr(netStandalone.BATCH_SIZE, len(X))"
   ]
  },
  {
   "cell_type": "code",
   "execution_count": 11,
   "metadata": {},
   "outputs": [],
   "source": [
    "handler.instantiate(\"red_proyectada\", netStandalone.CPU)\n",
    "handler.set_active_net(\"red_proyectada\")\n",
    "handler.build_net_from_file(\"pyparams\",netStandalone.RELOAD_FILE)"
   ]
  },
  {
   "cell_type": "code",
   "execution_count": 18,
   "metadata": {},
   "outputs": [
    {
     "name": "stdout",
     "output_type": "stream",
     "text": [
      "Tiempo proyectada: 8.66999998834217e-05\n"
     ]
    }
   ],
   "source": [
    "tic = time.perf_counter()\n",
    "handler.run_gradient(file=PATH+\"_temporal_data.csv\", file_reload=netStandalone.RELOAD_FILE)\n",
    "print(\"Tiempo proyectada: \"+str((time.perf_counter()-tic)))"
   ]
  },
  {
   "cell_type": "code",
   "execution_count": 19,
   "metadata": {},
   "outputs": [],
   "source": [
    "handler.instantiate(\"red_aleatoria\", netStandalone.CPU)\n",
    "handler.set_active_net(\"red_aleatoria\")\n",
    "handler.build_net_from_data(entradas,netStandalone.v_int(npl),netStandalone.v_int(act))"
   ]
  },
  {
   "cell_type": "code",
   "execution_count": 21,
   "metadata": {},
   "outputs": [
    {
     "name": "stdout",
     "output_type": "stream",
     "text": [
      "Tiempo aleatoria: 0.00015129999974305974\n"
     ]
    }
   ],
   "source": [
    "tic = time.perf_counter()\n",
    "handler.run_gradient(file=PATH+\"_temporal_data.csv\", file_reload=netStandalone.REUSE_FILE)\n",
    "print(\"Tiempo aleatoria: \"+str((time.perf_counter()-tic)))"
   ]
  },
  {
   "cell_type": "code",
   "execution_count": 22,
   "metadata": {},
   "outputs": [
    {
     "data": {
      "text/plain": [
       "174.50980385986193"
      ]
     },
     "execution_count": 22,
     "metadata": {},
     "output_type": "execute_result"
    }
   ],
   "source": [
    "0.00015129999974305974/8.66999998834217e-05*100"
   ]
  }
 ],
 "metadata": {
  "kernelspec": {
   "display_name": "Vitiate",
   "language": "python",
   "name": "python3"
  },
  "language_info": {
   "codemirror_mode": {
    "name": "ipython",
    "version": 3
   },
   "file_extension": ".py",
   "mimetype": "text/x-python",
   "name": "python",
   "nbconvert_exporter": "python",
   "pygments_lexer": "ipython3",
   "version": "3.8.18"
  }
 },
 "nbformat": 4,
 "nbformat_minor": 2
}
